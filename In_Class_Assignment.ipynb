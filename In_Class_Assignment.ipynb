{
  "nbformat": 4,
  "nbformat_minor": 0,
  "metadata": {
    "colab": {
      "provenance": [],
      "authorship_tag": "ABX9TyO247R8+8RowPc3kmxdw0Vi",
      "include_colab_link": true
    },
    "kernelspec": {
      "name": "python3",
      "display_name": "Python 3"
    },
    "language_info": {
      "name": "python"
    }
  },
  "cells": [
    {
      "cell_type": "markdown",
      "metadata": {
        "id": "view-in-github",
        "colab_type": "text"
      },
      "source": [
        "<a href=\"https://colab.research.google.com/github/IanKavanagh38/BTE320/blob/main/In_Class_Assignment.ipynb\" target=\"_parent\"><img src=\"https://colab.research.google.com/assets/colab-badge.svg\" alt=\"Open In Colab\"/></a>"
      ]
    },
    {
      "cell_type": "code",
      "execution_count": null,
      "metadata": {
        "colab": {
          "base_uri": "https://localhost:8080/"
        },
        "id": "PCKNnz9PkJ1x",
        "outputId": "3b7810e2-e225-47f3-8222-7552a3a8d90d"
      },
      "outputs": [
        {
          "output_type": "stream",
          "name": "stdout",
          "text": [
            "244.92000000000002\n"
          ]
        }
      ],
      "source": [
        "pi = 3.14\n",
        "r = 3\n",
        "h = 10\n",
        "Area = 2 * pi * r * h + 2 * pi * r ** 2\n",
        "print(Area)"
      ]
    },
    {
      "cell_type": "code",
      "source": [
        "play = input('Do you want to play a game? ')\n",
        "\n",
        "while play == 'yes':\n",
        "  p1 = input('Player 1 :: rock, paper, scissors: ')\n",
        "  p2 = input('Player 2 :: rock, paper, scissors: ')\n",
        "\n",
        "  if p1 ==p2:\n",
        "    print(\"Draw\")\n",
        "  elif (\n",
        "      (p1 == 'rock' and p2 == 'scissors') or\n",
        "      (p1 == 'scissors' and p2 == 'paper') or\n",
        "      (p1 == 'paper' and p2 == 'rock')):\n",
        "      print('player 1 wins!')\n",
        "  else:\n",
        "    print('player 2 wins!')\n",
        "  play = input('Do you want to play another game? ')"
      ],
      "metadata": {
        "colab": {
          "base_uri": "https://localhost:8080/"
        },
        "id": "yMlUykDIxXBX",
        "outputId": "baa468dd-fdec-4b0b-97ac-67f07e507dc3"
      },
      "execution_count": null,
      "outputs": [
        {
          "name": "stdout",
          "output_type": "stream",
          "text": [
            "Do you want to play a game? yes\n",
            "Player 1 :: rock, paper, scissors: scissors\n",
            "Player 2 :: rock, paper, scissors: rock\n",
            "player 2 wins!\n",
            "Do you want to play another game? no\n"
          ]
        }
      ]
    },
    {
      "cell_type": "code",
      "source": [
        "n1 = float(input('Enter first number: '))\n",
        "n2 = float(input ('Enter second number: '))\n",
        "symbol = input ('Operation (+, -, *, /, **): ')\n",
        "\n",
        "if symbol == '+':\n",
        "  print(n1 + n2)\n",
        "elif symbol == '-':\n",
        "  print(n1 - n2)\n",
        "elif symbol == '*':\n",
        "  print(n1 * n2)\n",
        "elif symbol == '/':\n",
        "  print(n1 / n2)\n",
        "elif symbol == '**':\n",
        "  print(n1 ** n2)\n",
        "\n"
      ],
      "metadata": {
        "colab": {
          "base_uri": "https://localhost:8080/"
        },
        "id": "kXgvlM-BsT8n",
        "outputId": "5e0267bf-98a9-4b47-b4f4-8cd1316ff7c9"
      },
      "execution_count": null,
      "outputs": [
        {
          "output_type": "stream",
          "name": "stdout",
          "text": [
            "Enter first number: 2\n",
            "Enter second number: 4\n",
            "Operation (+, -, *, /, **): +\n",
            "6.0\n"
          ]
        }
      ]
    },
    {
      "cell_type": "code",
      "source": [
        "flatRate = 5\n",
        "hourlyRate = 2.5\n",
        "\n",
        "for h in range (1,9,):\n",
        "  charge = flatRate + hourlyRate * h\n",
        "  if charge < 10:\n",
        "    charge = 10\n",
        "  elif charge > 20:\n",
        "    charge = 20\n",
        "  print(h, charge)"
      ],
      "metadata": {
        "colab": {
          "base_uri": "https://localhost:8080/"
        },
        "collapsed": true,
        "id": "AKsyNeuB9JXj",
        "outputId": "67a96c50-ae66-4823-ec32-6ea798aedcec"
      },
      "execution_count": null,
      "outputs": [
        {
          "output_type": "stream",
          "name": "stdout",
          "text": [
            "1 10\n",
            "2 10.0\n",
            "3 12.5\n",
            "4 15.0\n",
            "5 17.5\n",
            "6 20.0\n",
            "7 20\n",
            "8 20\n"
          ]
        }
      ]
    },
    {
      "cell_type": "code",
      "source": [
        "flatRate = 10\n",
        "attendees = 20\n",
        "adMoney = 25\n",
        "fixedCost = 200\n",
        "for i in range (0,201,25):\n",
        "  additionalAttendees = 2 * (i)**0.5\n",
        "  profit = (attendees + additionalAttendees) * flatRate - i - fixedCost\n",
        "  print(i, profit)\n"
      ],
      "metadata": {
        "colab": {
          "base_uri": "https://localhost:8080/"
        },
        "id": "tsfBN8meDNML",
        "outputId": "906eeacb-e3b5-4715-e6b4-15beb1db5a9c"
      },
      "execution_count": null,
      "outputs": [
        {
          "output_type": "stream",
          "name": "stdout",
          "text": [
            "0 0.0\n",
            "25 75.0\n",
            "50 91.42135623730951\n",
            "75 98.20508075688781\n",
            "100 100.0\n",
            "125 98.60679774997897\n",
            "150 94.94897427831779\n",
            "175 89.57513110645903\n",
            "200 82.84271247461902\n"
          ]
        }
      ]
    },
    {
      "cell_type": "code",
      "source": [
        "L = []\n",
        "\n",
        "item = int(input('Give a value: '))\n",
        "\n",
        "while item != 0:\n",
        "  L.append(item)\n",
        "  item = int(input('Give a value: '))\n",
        "print(L)\n"
      ],
      "metadata": {
        "colab": {
          "base_uri": "https://localhost:8080/"
        },
        "collapsed": true,
        "id": "Btf9bAe3IuzJ",
        "outputId": "5746d9e5-b160-46a5-b324-8bce83dd0751"
      },
      "execution_count": null,
      "outputs": [
        {
          "output_type": "stream",
          "name": "stdout",
          "text": [
            "Give a value: 1\n",
            "Give a value: 2\n",
            "Give a value: 0\n",
            "[1, 2]\n"
          ]
        }
      ]
    },
    {
      "cell_type": "code",
      "source": [
        "L1 = [1,2,3,4]\n",
        "L2 = [1,2,5,6]\n",
        "\n",
        "for item in L1[:]:\n",
        "  if item in L2:\n",
        "    L1.remove(item)\n",
        "\n",
        "print(L1)"
      ],
      "metadata": {
        "colab": {
          "base_uri": "https://localhost:8080/"
        },
        "id": "nE3zFy6dNTBQ",
        "outputId": "91c25e21-c71c-42cf-b4f0-d1b1c640a240"
      },
      "execution_count": null,
      "outputs": [
        {
          "output_type": "stream",
          "name": "stdout",
          "text": [
            "[3, 4]\n"
          ]
        }
      ]
    },
    {
      "cell_type": "code",
      "source": [
        "months = {}\n",
        "\n",
        "names = [\"Jan\", \"Feb\", \"Mar\", \"Apr\", \"May\", \"Jun\", \"Jul\", \"Aug\", \"Sep\", \"Oct\", \"Nov\", \"Dec\"]\n",
        "numbers = [1,2,3,4,5,6,7,8,9,10,11,12]\n",
        "\n",
        "for idx in numbers:\n",
        "  months[idx] = names[idx - 1]\n",
        "months"
      ],
      "metadata": {
        "colab": {
          "base_uri": "https://localhost:8080/"
        },
        "id": "AQkjDr3C43LJ",
        "outputId": "4373358d-6e1b-48ab-ffb8-c8bc4539191a"
      },
      "execution_count": 10,
      "outputs": [
        {
          "output_type": "execute_result",
          "data": {
            "text/plain": [
              "{1: 'Jan',\n",
              " 2: 'Feb',\n",
              " 3: 'Mar',\n",
              " 4: 'Apr',\n",
              " 5: 'May',\n",
              " 6: 'Jun',\n",
              " 7: 'Jul',\n",
              " 8: 'Aug',\n",
              " 9: 'Sep',\n",
              " 10: 'Oct',\n",
              " 11: 'Nov',\n",
              " 12: 'Dec'}"
            ]
          },
          "metadata": {},
          "execution_count": 10
        }
      ]
    }
  ]
}
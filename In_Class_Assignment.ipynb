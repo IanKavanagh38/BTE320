{
  "nbformat": 4,
  "nbformat_minor": 0,
  "metadata": {
    "colab": {
      "provenance": [],
      "authorship_tag": "ABX9TyNFz+5vGYcR1aJidsaYHTAY",
      "include_colab_link": true
    },
    "kernelspec": {
      "name": "python3",
      "display_name": "Python 3"
    },
    "language_info": {
      "name": "python"
    }
  },
  "cells": [
    {
      "cell_type": "markdown",
      "metadata": {
        "id": "view-in-github",
        "colab_type": "text"
      },
      "source": [
        "<a href=\"https://colab.research.google.com/github/IanKavanagh38/BTE320/blob/main/In_Class_Assignment.ipynb\" target=\"_parent\"><img src=\"https://colab.research.google.com/assets/colab-badge.svg\" alt=\"Open In Colab\"/></a>"
      ]
    },
    {
      "cell_type": "code",
      "execution_count": null,
      "metadata": {
        "colab": {
          "base_uri": "https://localhost:8080/"
        },
        "id": "PCKNnz9PkJ1x",
        "outputId": "3b7810e2-e225-47f3-8222-7552a3a8d90d"
      },
      "outputs": [
        {
          "output_type": "stream",
          "name": "stdout",
          "text": [
            "244.92000000000002\n"
          ]
        }
      ],
      "source": [
        "pi = 3.14\n",
        "r = 3\n",
        "h = 10\n",
        "Area = 2 * pi * r * h + 2 * pi * r ** 2\n",
        "print(Area)"
      ]
    },
    {
      "cell_type": "code",
      "source": [
        "play = input('Do you want to play a game? ')\n",
        "\n",
        "while play == 'yes':\n",
        "  p1 = input('Player 1 :: rock, paper, scissors: ')\n",
        "  p2 = input('Player 2 :: rock, paper, scissors: ')\n",
        "\n",
        "  if p1 ==p2:\n",
        "    print(\"Draw\")\n",
        "  elif (\n",
        "      (p1 == 'rock' and p2 == 'scissors') or\n",
        "      (p1 == 'scissors' and p2 == 'paper') or\n",
        "      (p1 == 'paper' and p2 == 'rock')):\n",
        "      print('player 1 wins!')\n",
        "  else:\n",
        "    print('player 2 wins!')\n",
        "  play = input('Do you want to play another game? ')"
      ],
      "metadata": {
        "colab": {
          "base_uri": "https://localhost:8080/"
        },
        "id": "yMlUykDIxXBX",
        "outputId": "baa468dd-fdec-4b0b-97ac-67f07e507dc3"
      },
      "execution_count": null,
      "outputs": [
        {
          "name": "stdout",
          "output_type": "stream",
          "text": [
            "Do you want to play a game? yes\n",
            "Player 1 :: rock, paper, scissors: scissors\n",
            "Player 2 :: rock, paper, scissors: rock\n",
            "player 2 wins!\n",
            "Do you want to play another game? no\n"
          ]
        }
      ]
    },
    {
      "cell_type": "code",
      "source": [
        "n1 = float(input('Enter first number: '))\n",
        "n2 = float(input ('Enter second number: '))\n",
        "symbol = input ('Operation (+, -, *, /, **): ')\n",
        "\n",
        "if symbol == '+':\n",
        "  print(n1 + n2)\n",
        "elif symbol == '-':\n",
        "  print(n1 - n2)\n",
        "elif symbol == '*':\n",
        "  print(n1 * n2)\n",
        "elif symbol == '/':\n",
        "  print(n1 / n2)\n",
        "elif symbol == '**':\n",
        "  print(n1 ** n2)\n",
        "\n"
      ],
      "metadata": {
        "colab": {
          "base_uri": "https://localhost:8080/"
        },
        "id": "kXgvlM-BsT8n",
        "outputId": "5e0267bf-98a9-4b47-b4f4-8cd1316ff7c9"
      },
      "execution_count": null,
      "outputs": [
        {
          "output_type": "stream",
          "name": "stdout",
          "text": [
            "Enter first number: 2\n",
            "Enter second number: 4\n",
            "Operation (+, -, *, /, **): +\n",
            "6.0\n"
          ]
        }
      ]
    },
    {
      "cell_type": "code",
      "source": [
        "flatRate = 5\n",
        "hourlyRate = 2.5\n",
        "\n",
        "for h in range (1,9,):\n",
        "  charge = flatRate + hourlyRate * h\n",
        "  if charge < 10:\n",
        "    charge = 10\n",
        "  elif charge > 20:\n",
        "    charge = 20\n",
        "  print(h, charge)"
      ],
      "metadata": {
        "colab": {
          "base_uri": "https://localhost:8080/"
        },
        "id": "AKsyNeuB9JXj",
        "outputId": "67a96c50-ae66-4823-ec32-6ea798aedcec"
      },
      "execution_count": null,
      "outputs": [
        {
          "output_type": "stream",
          "name": "stdout",
          "text": [
            "1 10\n",
            "2 10.0\n",
            "3 12.5\n",
            "4 15.0\n",
            "5 17.5\n",
            "6 20.0\n",
            "7 20\n",
            "8 20\n"
          ]
        }
      ]
    },
    {
      "cell_type": "code",
      "source": [
        "flatRate = 10\n",
        "attendees = 20\n",
        "adMoney = 25\n",
        "fixedCost = 200\n",
        "for i in range (0,201,25):\n",
        "  additionalAttendees = 2 * (i)**0.5\n",
        "  profit = (attendees + additionalAttendees) * flatRate - i - fixedCost\n",
        "  print(i, profit)\n"
      ],
      "metadata": {
        "colab": {
          "base_uri": "https://localhost:8080/"
        },
        "id": "tsfBN8meDNML",
        "outputId": "906eeacb-e3b5-4715-e6b4-15beb1db5a9c"
      },
      "execution_count": null,
      "outputs": [
        {
          "output_type": "stream",
          "name": "stdout",
          "text": [
            "0 0.0\n",
            "25 75.0\n",
            "50 91.42135623730951\n",
            "75 98.20508075688781\n",
            "100 100.0\n",
            "125 98.60679774997897\n",
            "150 94.94897427831779\n",
            "175 89.57513110645903\n",
            "200 82.84271247461902\n"
          ]
        }
      ]
    },
    {
      "cell_type": "code",
      "source": [
        "L = []\n",
        "\n",
        "item = int(input('Give a value: '))\n",
        "\n",
        "while item != 0:\n",
        "  L.append(item)\n",
        "  item = int(input('Give a value: '))\n",
        "print(L)"
      ],
      "metadata": {
        "colab": {
          "base_uri": "https://localhost:8080/",
          "height": 365
        },
        "collapsed": true,
        "id": "uRlDYdfmsuro",
        "outputId": "308d6cbd-50b0-4c8d-ad4b-d8328f4c2a58"
      },
      "execution_count": 3,
      "outputs": [
        {
          "output_type": "error",
          "ename": "KeyboardInterrupt",
          "evalue": "Interrupted by user",
          "traceback": [
            "\u001b[0;31m---------------------------------------------------------------------------\u001b[0m",
            "\u001b[0;31mKeyboardInterrupt\u001b[0m                         Traceback (most recent call last)",
            "\u001b[0;32m<ipython-input-3-0624ebcd7cd7>\u001b[0m in \u001b[0;36m<cell line: 3>\u001b[0;34m()\u001b[0m\n\u001b[1;32m      1\u001b[0m \u001b[0mL\u001b[0m \u001b[0;34m=\u001b[0m \u001b[0;34m[\u001b[0m\u001b[0;34m]\u001b[0m\u001b[0;34m\u001b[0m\u001b[0;34m\u001b[0m\u001b[0m\n\u001b[1;32m      2\u001b[0m \u001b[0;34m\u001b[0m\u001b[0m\n\u001b[0;32m----> 3\u001b[0;31m \u001b[0mitem\u001b[0m \u001b[0;34m=\u001b[0m \u001b[0mint\u001b[0m\u001b[0;34m(\u001b[0m\u001b[0minput\u001b[0m\u001b[0;34m(\u001b[0m\u001b[0;34m'Give a value: '\u001b[0m\u001b[0;34m)\u001b[0m\u001b[0;34m)\u001b[0m\u001b[0;34m\u001b[0m\u001b[0;34m\u001b[0m\u001b[0m\n\u001b[0m\u001b[1;32m      4\u001b[0m \u001b[0;34m\u001b[0m\u001b[0m\n\u001b[1;32m      5\u001b[0m \u001b[0;32mwhile\u001b[0m \u001b[0mitem\u001b[0m \u001b[0;34m!=\u001b[0m \u001b[0;36m0\u001b[0m\u001b[0;34m:\u001b[0m\u001b[0;34m\u001b[0m\u001b[0;34m\u001b[0m\u001b[0m\n",
            "\u001b[0;32m/usr/local/lib/python3.10/dist-packages/ipykernel/kernelbase.py\u001b[0m in \u001b[0;36mraw_input\u001b[0;34m(self, prompt)\u001b[0m\n\u001b[1;32m    849\u001b[0m                 \u001b[0;34m\"raw_input was called, but this frontend does not support input requests.\"\u001b[0m\u001b[0;34m\u001b[0m\u001b[0;34m\u001b[0m\u001b[0m\n\u001b[1;32m    850\u001b[0m             )\n\u001b[0;32m--> 851\u001b[0;31m         return self._input_request(str(prompt),\n\u001b[0m\u001b[1;32m    852\u001b[0m             \u001b[0mself\u001b[0m\u001b[0;34m.\u001b[0m\u001b[0m_parent_ident\u001b[0m\u001b[0;34m,\u001b[0m\u001b[0;34m\u001b[0m\u001b[0;34m\u001b[0m\u001b[0m\n\u001b[1;32m    853\u001b[0m             \u001b[0mself\u001b[0m\u001b[0;34m.\u001b[0m\u001b[0m_parent_header\u001b[0m\u001b[0;34m,\u001b[0m\u001b[0;34m\u001b[0m\u001b[0;34m\u001b[0m\u001b[0m\n",
            "\u001b[0;32m/usr/local/lib/python3.10/dist-packages/ipykernel/kernelbase.py\u001b[0m in \u001b[0;36m_input_request\u001b[0;34m(self, prompt, ident, parent, password)\u001b[0m\n\u001b[1;32m    893\u001b[0m             \u001b[0;32mexcept\u001b[0m \u001b[0mKeyboardInterrupt\u001b[0m\u001b[0;34m:\u001b[0m\u001b[0;34m\u001b[0m\u001b[0;34m\u001b[0m\u001b[0m\n\u001b[1;32m    894\u001b[0m                 \u001b[0;31m# re-raise KeyboardInterrupt, to truncate traceback\u001b[0m\u001b[0;34m\u001b[0m\u001b[0;34m\u001b[0m\u001b[0m\n\u001b[0;32m--> 895\u001b[0;31m                 \u001b[0;32mraise\u001b[0m \u001b[0mKeyboardInterrupt\u001b[0m\u001b[0;34m(\u001b[0m\u001b[0;34m\"Interrupted by user\"\u001b[0m\u001b[0;34m)\u001b[0m \u001b[0;32mfrom\u001b[0m \u001b[0;32mNone\u001b[0m\u001b[0;34m\u001b[0m\u001b[0;34m\u001b[0m\u001b[0m\n\u001b[0m\u001b[1;32m    896\u001b[0m             \u001b[0;32mexcept\u001b[0m \u001b[0mException\u001b[0m \u001b[0;32mas\u001b[0m \u001b[0me\u001b[0m\u001b[0;34m:\u001b[0m\u001b[0;34m\u001b[0m\u001b[0;34m\u001b[0m\u001b[0m\n\u001b[1;32m    897\u001b[0m                 \u001b[0mself\u001b[0m\u001b[0;34m.\u001b[0m\u001b[0mlog\u001b[0m\u001b[0;34m.\u001b[0m\u001b[0mwarning\u001b[0m\u001b[0;34m(\u001b[0m\u001b[0;34m\"Invalid Message:\"\u001b[0m\u001b[0;34m,\u001b[0m \u001b[0mexc_info\u001b[0m\u001b[0;34m=\u001b[0m\u001b[0;32mTrue\u001b[0m\u001b[0;34m)\u001b[0m\u001b[0;34m\u001b[0m\u001b[0;34m\u001b[0m\u001b[0m\n",
            "\u001b[0;31mKeyboardInterrupt\u001b[0m: Interrupted by user"
          ]
        }
      ]
    },
    {
      "cell_type": "code",
      "source": [
        "L1 = [1,2,3,4]\n",
        "L2 = [1,2,5,6]\n",
        "\n",
        "for item in L1[:]:\n",
        "  if item in L2:\n",
        "    L1.remove(item)\n",
        "\n",
        "print(L1)"
      ],
      "metadata": {
        "colab": {
          "base_uri": "https://localhost:8080/"
        },
        "id": "Pxa5xEC7tGnn",
        "outputId": "e228aa54-a515-4d1c-aa1d-086ac66c123e"
      },
      "execution_count": 2,
      "outputs": [
        {
          "output_type": "stream",
          "name": "stdout",
          "text": [
            "[3, 4]\n"
          ]
        }
      ]
    },
    {
      "cell_type": "code",
      "source": [
        "months = {}\n",
        "\n",
        "names = [\"Jan\", \"Feb\", \"Mar\", \"Apr\", \"May\", \"Jun\", \"Jul\", \"Aug\", \"Sep\", \"Oct\", \"Nov\", \"Dec\"]\n",
        "numbers = [1,2,3,4,5,6,7,8,9,10,11,12]\n",
        "\n",
        "for idx in numbers:\n",
        "  months[idx] = names[idx - 1]\n",
        "months"
      ],
      "metadata": {
        "colab": {
          "base_uri": "https://localhost:8080/"
        },
        "id": "AQkjDr3C43LJ",
        "outputId": "dacdbb2a-31a2-461e-ba1d-2d33e095b63e"
      },
      "execution_count": null,
      "outputs": [
        {
          "output_type": "execute_result",
          "data": {
            "text/plain": [
              "{1: 'Jan',\n",
              " 2: 'Feb',\n",
              " 3: 'Mar',\n",
              " 4: 'Apr',\n",
              " 5: 'May',\n",
              " 6: 'Jun',\n",
              " 7: 'Jul',\n",
              " 8: 'Aug',\n",
              " 9: 'Sep',\n",
              " 10: 'Oct',\n",
              " 11: 'Nov',\n",
              " 12: 'Dec'}"
            ]
          },
          "metadata": {},
          "execution_count": 1
        }
      ]
    },
    {
      "cell_type": "code",
      "source": [
        "for val in months.values():\n",
        "  print(val)"
      ],
      "metadata": {
        "colab": {
          "base_uri": "https://localhost:8080/"
        },
        "id": "2AMy2WLMDt27",
        "outputId": "c4d8f379-9bc0-4047-f08f-f3bf22ceefae"
      },
      "execution_count": null,
      "outputs": [
        {
          "output_type": "stream",
          "name": "stdout",
          "text": [
            "Jan\n",
            "Feb\n",
            "Mar\n",
            "Apr\n",
            "May\n",
            "Jun\n",
            "Jul\n",
            "Aug\n",
            "Sep\n",
            "Oct\n",
            "Nov\n",
            "Dec\n"
          ]
        }
      ]
    },
    {
      "cell_type": "code",
      "source": [
        "for key in months.keys():\n",
        "  print(key)"
      ],
      "metadata": {
        "colab": {
          "base_uri": "https://localhost:8080/"
        },
        "id": "50C9OjOnEE9v",
        "outputId": "acb71ffd-1358-4fb5-f286-a41da16721ea"
      },
      "execution_count": null,
      "outputs": [
        {
          "output_type": "stream",
          "name": "stdout",
          "text": [
            "1\n",
            "2\n",
            "3\n",
            "4\n",
            "5\n",
            "6\n",
            "7\n",
            "8\n",
            "9\n",
            "10\n",
            "11\n",
            "12\n"
          ]
        }
      ]
    },
    {
      "cell_type": "code",
      "source": [
        "for key, value in months.items():\n",
        "  print(key, value)"
      ],
      "metadata": {
        "colab": {
          "base_uri": "https://localhost:8080/"
        },
        "id": "h5iGtfUWEYRo",
        "outputId": "13d3c230-8b5c-406d-9aa4-ccd868bb224d"
      },
      "execution_count": null,
      "outputs": [
        {
          "output_type": "stream",
          "name": "stdout",
          "text": [
            "1 Jan\n",
            "2 Feb\n",
            "3 Mar\n",
            "4 Apr\n",
            "5 May\n",
            "6 Jun\n",
            "7 Jul\n",
            "8 Aug\n",
            "9 Sep\n",
            "10 Oct\n",
            "11 Nov\n",
            "12 Dec\n"
          ]
        }
      ]
    },
    {
      "cell_type": "code",
      "source": [
        "def calculate_months_to_save(annual_salary, portion_saved, total_cost):\n",
        "  portion_down_payment = 0.25\n",
        "  r = 0.04\n",
        "  down_payment = total_cost * portion_down_payment\n",
        "  current_savings = 0.0\n",
        "  monthly_salary = annual_salary / 12\n",
        "  months = 0\n",
        "  while current_savings < down_payment:\n",
        "    current_savings += current_savings * (r / 12)\n",
        "    current_savings += monthly_salary * portion_saved\n",
        "    months += 1\n",
        "\n",
        "  return months\n",
        "\n",
        "def main():\n",
        "    annual_salary = float(input(\"Enter your annual salary: \"))\n",
        "    portion_saved = float(input(\"Enter the percent of your salary to save, as a decimal: \"))\n",
        "    total_cost = float(input(\"Enter the cost of your dream home: \"))\n",
        "\n",
        "    months_needed = calculate_months_to_save(annual_salary, portion_saved, total_cost)\n",
        "\n",
        "    print(f\"Number of months: {months_needed}\")\n",
        "\n",
        "if __name__ == \"__main__\":\n",
        "    main()\n"
      ],
      "metadata": {
        "id": "kBAQfmbkJZBa",
        "colab": {
          "base_uri": "https://localhost:8080/"
        },
        "outputId": "4ba40afb-203c-4e83-a9ee-9fb22f39b1e7"
      },
      "execution_count": null,
      "outputs": [
        {
          "output_type": "stream",
          "name": "stdout",
          "text": [
            "Enter your annual salary: 120000\n",
            "Enter the percent of your salary to save, as a decimal: 0.10\n",
            "Enter the cost of your dream home: 1000000\n",
            "Number of months: 183\n"
          ]
        }
      ]
    },
    {
      "cell_type": "code",
      "source": [
        "def calculate_months_to_save(annual_salary, portion_saved, total_cost, semi_annual_raise):\n",
        "  portion_down_payment = 0.25\n",
        "  r = 0.04\n",
        "  down_payment = total_cost * portion_down_payment\n",
        "  current_savings = 0.0\n",
        "  monthly_salary = annual_salary / 12\n",
        "  months = 0\n",
        "  while current_savings < down_payment:\n",
        "    current_savings += current_savings * (r / 12)\n",
        "    current_savings += monthly_salary * portion_saved\n",
        "    months += 1\n",
        "    if months % 6 == 0:\n",
        "            annual_salary += annual_salary * semi_annual_raise\n",
        "            monthly_salary = annual_salary / 12\n",
        "\n",
        "  return months\n",
        "\n",
        "def main():\n",
        "    annual_salary = float(input(\"Enter your annual salary: \"))\n",
        "    portion_saved = float(input(\"Enter the percent of your salary to save, as a decimal: \"))\n",
        "    total_cost = float(input(\"Enter the cost of your dream home: \"))\n",
        "    semi_annual_raise = float(input(\"Enter the semi-annual raise, as a decimal: \"))\n",
        "\n",
        "    months_needed = calculate_months_to_save(annual_salary, portion_saved, total_cost, semi_annual_raise)\n",
        "\n",
        "    print(f\"Number of months: {months_needed}\")\n",
        "\n",
        "if __name__ == \"__main__\":\n",
        "    main()"
      ],
      "metadata": {
        "colab": {
          "base_uri": "https://localhost:8080/"
        },
        "id": "dMpYJwxOOHPn",
        "outputId": "dd62a7c9-0e64-4889-a432-77d721fc3421"
      },
      "execution_count": null,
      "outputs": [
        {
          "output_type": "stream",
          "name": "stdout",
          "text": [
            "Enter your annual salary: 120000\n",
            "Enter the percent of your salary to save, as a decimal: 0.05\n",
            "Enter the cost of your dream home: 500000\n",
            "Enter the semi-annual raise, as a decimal: 0.03\n",
            "Number of months: 142\n"
          ]
        }
      ]
    },
    {
      "cell_type": "code",
      "source": [
        "def range_check(num, low, high):\n",
        "  if num >= low and num <= high:\n",
        "    return True\n",
        "  else:\n",
        "    return False"
      ],
      "metadata": {
        "id": "36thPletTXbB"
      },
      "execution_count": null,
      "outputs": []
    },
    {
      "cell_type": "code",
      "source": [
        "print(range_check(1,2,3))"
      ],
      "metadata": {
        "colab": {
          "base_uri": "https://localhost:8080/"
        },
        "id": "DyFJOYMvTZS0",
        "outputId": "ae199c81-0e64-4358-bfc0-2252c529b197"
      },
      "execution_count": null,
      "outputs": [
        {
          "output_type": "stream",
          "name": "stdout",
          "text": [
            "False\n"
          ]
        }
      ]
    },
    {
      "cell_type": "code",
      "source": [
        "res = range_check(num=2, low=1, high=3)\n",
        "print(res)"
      ],
      "metadata": {
        "colab": {
          "base_uri": "https://localhost:8080/"
        },
        "id": "-m3yeR6sTdBC",
        "outputId": "ef76cec5-3721-4c5a-9978-12f0c51bf5aa"
      },
      "execution_count": null,
      "outputs": [
        {
          "output_type": "stream",
          "name": "stdout",
          "text": [
            "True\n"
          ]
        }
      ]
    },
    {
      "cell_type": "code",
      "source": [
        "def calcFee(hours):\n",
        "  fee = (hours * 2.5) + 5\n",
        "  return fee\n",
        "\n",
        "hours = int (input('Enter hours parked: '))\n",
        "print('Parking Fee:',calcFee(hours))"
      ],
      "metadata": {
        "colab": {
          "base_uri": "https://localhost:8080/"
        },
        "id": "PYIRpCb59jJS",
        "outputId": "65f0191e-d776-4869-fdd2-7c7bb233f02a"
      },
      "execution_count": null,
      "outputs": [
        {
          "output_type": "stream",
          "name": "stdout",
          "text": [
            "Enter hours parked: 5\n",
            "Parking Fee: 17.5\n"
          ]
        }
      ]
    },
    {
      "cell_type": "code",
      "source": [
        "def calcFee(hours, decimals = 2):\n",
        "  fee = 5 + (hours * 2.5)\n",
        "  fee = round(fee,decimals)\n",
        "  return fee\n",
        "\n",
        "def displayFee(fee):\n",
        "  print(fee)\n",
        "\n",
        "h = int(input('Enter hours parked: '))\n",
        "fee = calcFee(h, decimals=0)\n",
        "displayFee(fee)"
      ],
      "metadata": {
        "colab": {
          "base_uri": "https://localhost:8080/"
        },
        "id": "xHKQLub-CeMk",
        "outputId": "3cbe4d3b-c5ff-40fd-b2ba-597d6a0c6892"
      },
      "execution_count": null,
      "outputs": [
        {
          "output_type": "stream",
          "name": "stdout",
          "text": [
            "Enter hours parked: 5\n",
            "18.0\n"
          ]
        }
      ]
    },
    {
      "cell_type": "code",
      "source": [
        "def f(x): #name x used as formal parameter\n",
        "  print('x =', x)\n",
        "  return x\n",
        "\n",
        "def main():\n",
        "  x = 3\n",
        "  y = 2\n",
        "  z = f(x) #value of x used as actual parameter\n",
        "  print('z =', z)\n",
        "  print('x =', x)\n",
        "  print('y =', y)\n",
        "\n",
        "if __name__ == \"__main__\":\n",
        "  main()"
      ],
      "metadata": {
        "colab": {
          "base_uri": "https://localhost:8080/"
        },
        "id": "RejwOFBcZEVz",
        "outputId": "7164dede-6112-4a51-979f-7edd22bdfae2"
      },
      "execution_count": null,
      "outputs": [
        {
          "output_type": "stream",
          "name": "stdout",
          "text": [
            "x = 3\n",
            "z = 3\n",
            "x = 3\n",
            "y = 2\n"
          ]
        }
      ]
    },
    {
      "cell_type": "code",
      "source": [
        "def reverse(s):\n",
        "  if len(s) == 1:\n",
        "    return s\n",
        "  else:\n",
        "    return s[-1] + reverse(s[1:-1]) + s[0]\n",
        "    return reverse(s[1:]) + s[0]\n",
        "    return s[-1] + reverse(s[:-1])\n",
        "\n",
        "reverse('Hello')\n"
      ],
      "metadata": {
        "colab": {
          "base_uri": "https://localhost:8080/",
          "height": 35
        },
        "id": "MKucaySCH3I-",
        "outputId": "3c26afe9-22ca-48b8-8830-400ae19799a0"
      },
      "execution_count": null,
      "outputs": [
        {
          "output_type": "execute_result",
          "data": {
            "text/plain": [
              "'olleH'"
            ],
            "application/vnd.google.colaboratory.intrinsic+json": {
              "type": "string"
            }
          },
          "metadata": {},
          "execution_count": 2
        }
      ]
    },
    {
      "cell_type": "code",
      "source": [
        "\"\"\"\n",
        "Function that calculates the weighted average of a list L, given weights w\n",
        "The function should handle the following exception error types:\n",
        "- ZeroDivisionError (returns empty list)\n",
        "- TypeError (returns empty list)\n",
        "- any other unknown error (returns float('nan'))\n",
        "\"\"\"\n",
        "\n",
        "def wAvg(L, w):\n",
        "  try:\n",
        "    res = []\n",
        "    for i in range(len(L)):\n",
        "      res.append(L[i]*w[i])\n",
        "    return sum(res) / sum(w)\n",
        "  except ZeroDivisionError:\n",
        "    print('Divided by zero')\n",
        "    return []\n",
        "  except TypeError:\n",
        "    print('Non-numerical objects found')\n",
        "    return []\n",
        "  except Exception as e:\n",
        "    print(f'Unknown error: {e}')\n",
        "    return float('nan')\n",
        "wAvg([1,2,3],[.2,0,-.2])"
      ],
      "metadata": {
        "colab": {
          "base_uri": "https://localhost:8080/"
        },
        "id": "jpy5149sgIZk",
        "outputId": "22e8a604-6f1d-49e0-87af-62db3629c38a"
      },
      "execution_count": null,
      "outputs": [
        {
          "output_type": "stream",
          "name": "stdout",
          "text": [
            "Divided by zero\n"
          ]
        },
        {
          "output_type": "execute_result",
          "data": {
            "text/plain": [
              "[]"
            ]
          },
          "metadata": {},
          "execution_count": 12
        }
      ]
    },
    {
      "cell_type": "code",
      "source": [
        "class Car:\n",
        "  def __init__(self, n_doors, allwd, make, year):\n",
        "    self.doors = n_doors\n",
        "    self.allwd = allwd\n",
        "    self.make = make\n",
        "    self.year = year\n",
        "    self.n_wheels = 4\n",
        "\n",
        "\n",
        "c = Car(4, 0, 'Chevrolet', 2023)"
      ],
      "metadata": {
        "id": "2lnXOHv9t2G1"
      },
      "execution_count": null,
      "outputs": []
    },
    {
      "cell_type": "code",
      "source": [
        "class Student:\n",
        "  def __init__(self, name, number):\n",
        "    self.__name = name\n",
        "    self.number = number\n",
        "    self.__courses = []\n",
        "\n",
        "  def enroll(self,newCourse):\n",
        "    if newCourse not in self.__courses:\n",
        "      self.__courses.append(newCourse)\n",
        "    else:\n",
        "      print(f'You have already enrolled in {newCourse}')\n",
        "\n",
        "  def get_courses(self):\n",
        "    return self.__courses\n"
      ],
      "metadata": {
        "id": "9twnA7GDvSWv"
      },
      "execution_count": null,
      "outputs": []
    },
    {
      "cell_type": "code",
      "source": [
        "s = Student('Bob', '12345')"
      ],
      "metadata": {
        "id": "GHV_yN_fuHVo"
      },
      "execution_count": null,
      "outputs": []
    },
    {
      "cell_type": "code",
      "source": [
        "s.enroll('ABC789')"
      ],
      "metadata": {
        "colab": {
          "base_uri": "https://localhost:8080/"
        },
        "id": "E5Ejaifyx9QS",
        "outputId": "2dbdb1be-6641-45d9-9507-1341c9b18203"
      },
      "execution_count": null,
      "outputs": [
        {
          "output_type": "stream",
          "name": "stdout",
          "text": [
            "You have already enrolled in ABC789\n"
          ]
        }
      ]
    },
    {
      "cell_type": "code",
      "source": [
        "s.get_courses()"
      ],
      "metadata": {
        "colab": {
          "base_uri": "https://localhost:8080/"
        },
        "id": "_yRfUMl3yATD",
        "outputId": "41109adc-d396-43b0-bb3a-5f110f763def"
      },
      "execution_count": null,
      "outputs": [
        {
          "output_type": "execute_result",
          "data": {
            "text/plain": [
              "['ABC789', 'ABC123', 'ABC456']"
            ]
          },
          "metadata": {},
          "execution_count": 12
        }
      ]
    }
  ]
}
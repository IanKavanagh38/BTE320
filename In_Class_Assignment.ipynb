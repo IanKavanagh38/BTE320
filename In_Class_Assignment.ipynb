{
  "nbformat": 4,
  "nbformat_minor": 0,
  "metadata": {
    "colab": {
      "provenance": [],
      "authorship_tag": "ABX9TyM9XqteAtraFaDZHx7kcZh2",
      "include_colab_link": true
    },
    "kernelspec": {
      "name": "python3",
      "display_name": "Python 3"
    },
    "language_info": {
      "name": "python"
    }
  },
  "cells": [
    {
      "cell_type": "markdown",
      "metadata": {
        "id": "view-in-github",
        "colab_type": "text"
      },
      "source": [
        "<a href=\"https://colab.research.google.com/github/IanKavanagh38/BTE320/blob/main/In_Class_Assignment.ipynb\" target=\"_parent\"><img src=\"https://colab.research.google.com/assets/colab-badge.svg\" alt=\"Open In Colab\"/></a>"
      ]
    },
    {
      "cell_type": "code",
      "execution_count": null,
      "metadata": {
        "colab": {
          "base_uri": "https://localhost:8080/"
        },
        "id": "PCKNnz9PkJ1x",
        "outputId": "3b7810e2-e225-47f3-8222-7552a3a8d90d"
      },
      "outputs": [
        {
          "output_type": "stream",
          "name": "stdout",
          "text": [
            "244.92000000000002\n"
          ]
        }
      ],
      "source": [
        "pi = 3.14\n",
        "r = 3\n",
        "h = 10\n",
        "Area = 2 * pi * r * h + 2 * pi * r ** 2\n",
        "print(Area)"
      ]
    },
    {
      "cell_type": "code",
      "source": [
        "p1 = input('Player 1 :: rock, paper, scissors: ')\n",
        "p2 = input('Player 2 :: rock, paper, scissors: ')\n",
        "\n",
        "if p1 ==p2:\n",
        "  print(\"Draw\")\n",
        "elif (\n",
        "    (p1 == 'rock' and p2 == 'scissors') or\n",
        "    (p1 == 'scissors' and p2 == 'paper') or\n",
        "    (p1 == 'paper' and p2 == 'rock')):\n",
        "    print('player 1 wins!')\n",
        "else:\n",
        "  print('player 2 wins!')"
      ],
      "metadata": {
        "colab": {
          "base_uri": "https://localhost:8080/"
        },
        "id": "yMlUykDIxXBX",
        "outputId": "53fec566-3196-482d-81ff-fc3fd64aae66"
      },
      "execution_count": null,
      "outputs": [
        {
          "output_type": "stream",
          "name": "stdout",
          "text": [
            "Player 1 :: rock, paper, scissors: rock\n",
            "Player 2 :: rock, paper, scissors: scissors\n",
            "player 1 wins!\n"
          ]
        }
      ]
    },
    {
      "cell_type": "code",
      "source": [
        "n1 = float(input('Enter first number: '))\n",
        "n2 = float(input ('Enter second number: '))\n",
        "symbol = input ('Operation (+, -, *, /, **): ')\n",
        "\n",
        "if symbol == '+':\n",
        "  print(n1 + n2)\n",
        "elif symbol == '-':\n",
        "  print(n1 - n2)\n",
        "elif symbol == '*':\n",
        "  print(n1 * n2)\n",
        "elif symbol == '/':\n",
        "  print(n1 / n2)\n",
        "elif symbol == '**':\n",
        "  print(n1 ** n2)\n",
        "\n"
      ],
      "metadata": {
        "colab": {
          "base_uri": "https://localhost:8080/"
        },
        "id": "kXgvlM-BsT8n",
        "outputId": "5e0267bf-98a9-4b47-b4f4-8cd1316ff7c9"
      },
      "execution_count": 2,
      "outputs": [
        {
          "output_type": "stream",
          "name": "stdout",
          "text": [
            "Enter first number: 2\n",
            "Enter second number: 4\n",
            "Operation (+, -, *, /, **): +\n",
            "6.0\n"
          ]
        }
      ]
    }
  ]
}